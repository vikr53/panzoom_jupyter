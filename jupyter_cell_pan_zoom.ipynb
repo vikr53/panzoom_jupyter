{
 "cells": [
  {
   "cell_type": "markdown",
   "id": "atlantic-night",
   "metadata": {},
   "source": [
    "# Panning/Zooming within a Jupyter Cell \n",
    "*Note that this method doesn't just apply to SVGs.\n",
    "\n",
    "This functionality is intended to be added to the [plot_graphviz()](https://github.com/RobotLocomotion/drake/blob/e59b7fc18dbe80b827d07e4a3283a0c87eda7021/bindings/pydrake/systems/drawing.py) function\n",
    "\n",
    "Already, plot_graphviz() is able to convert the graphviz string -> dot file (using pydot) -> PNG (usig pydot). It is very simple to change the PNG output to an SVG output by replacing \"g.write_png(f.name)\" (line 30) to \"g.write_svg(f.name)\". \n",
    "\n",
    "With this external SVG file, we can simply do the following "
   ]
  },
  {
   "cell_type": "code",
   "execution_count": 1,
   "id": "fatal-arrival",
   "metadata": {},
   "outputs": [],
   "source": [
    "from IPython.display import display, Javascript, HTML"
   ]
  },
  {
   "cell_type": "code",
   "execution_count": 2,
   "id": "balanced-filling",
   "metadata": {
    "scrolled": true
   },
   "outputs": [
    {
     "data": {
      "application/javascript": [
       "require.config({ paths: { panzoom: ['https://unpkg.com/panzoom@9.4.0/dist/panzoom.min']}})"
      ],
      "text/plain": [
       "<IPython.core.display.Javascript object>"
      ]
     },
     "metadata": {},
     "output_type": "display_data"
    },
    {
     "data": {
      "application/javascript": [
       "require.undef('jp_panzoom');\n",
       "\n",
       "define('jp_panzoom', ['panzoom'], function (panzoom) {\n",
       "    function draw(container) {\n",
       "        // just grab a DOM element\n",
       "        var element = document.querySelector('#scene');\n",
       "        console.log(element)\n",
       "        // And pass it to panzoom\n",
       "        panzoom(element)\n",
       "    }\n",
       "    return draw;\n",
       "});\n"
      ],
      "text/plain": [
       "<IPython.core.display.Javascript object>"
      ]
     },
     "metadata": {},
     "output_type": "display_data"
    },
    {
     "data": {
      "text/html": [
       "\n",
       "<img id=\"scene\" src=\"https://upload.wikimedia.org/wikipedia/commons/7/77/Wikipedia_svg_logo.svg\">\n",
       "</img>\n",
       "\n"
      ],
      "text/plain": [
       "<IPython.core.display.HTML object>"
      ]
     },
     "metadata": {},
     "output_type": "display_data"
    },
    {
     "data": {
      "application/javascript": [
       "\n",
       "        (function(element){\n",
       "            require(['jp_panzoom'], function(jp_panzoom) {\n",
       "                jp_panzoom(element.get(0));\n",
       "            });\n",
       "        })(element);\n",
       "    "
      ],
      "text/plain": [
       "<IPython.core.display.Javascript object>"
      ]
     },
     "metadata": {},
     "output_type": "display_data"
    }
   ],
   "source": [
    "# Use JS require to get the popular panzoom package, \n",
    "display(Javascript(\"require.config({ paths: { panzoom: ['https://unpkg.com/panzoom@9.4.0/dist/panzoom.min']}})\"))\n",
    "# Define jp_panzoom module to apply to the svg in this jupyter cell (*DOESN'T HAVE TO BE SEPARATE FILE*)\n",
    "display(Javascript(filename=\"jp_panzoom.js\")) \n",
    "# Load HTML file that defines the svg element (*DOESN'T HAVE TO BE SEPARATE FILE*)\n",
    "display(HTML(\"jp_panzoom.html\"))\n",
    "# Finally, call the jp_panzoom function in the above defined jp_panzoom module\n",
    "display(Javascript(\"\"\"\n",
    "        (function(element){\n",
    "            require(['jp_panzoom'], function(jp_panzoom) {\n",
    "                jp_panzoom(element.get(0));\n",
    "            });\n",
    "        })(element);\n",
    "    \"\"\" ))"
   ]
  },
  {
   "cell_type": "code",
   "execution_count": null,
   "id": "dutch-python",
   "metadata": {},
   "outputs": [],
   "source": []
  }
 ],
 "metadata": {
  "kernelspec": {
   "display_name": "Python 3",
   "language": "python",
   "name": "python3"
  },
  "language_info": {
   "codemirror_mode": {
    "name": "ipython",
    "version": 3
   },
   "file_extension": ".py",
   "mimetype": "text/x-python",
   "name": "python",
   "nbconvert_exporter": "python",
   "pygments_lexer": "ipython3",
   "version": "3.9.6"
  }
 },
 "nbformat": 4,
 "nbformat_minor": 5
}
